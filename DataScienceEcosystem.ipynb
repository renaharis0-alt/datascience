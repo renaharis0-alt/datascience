{
 "cells": [
  {
   "cell_type": "markdown",
   "id": "048a0285-6191-4553-bd0d-ebe2586ded61",
   "metadata": {},
   "source": [
    "# H1: Data Science Tools and Ecosystem"
   ]
  },
  {
   "cell_type": "markdown",
   "id": "720afdbd-5db4-4d0c-b23a-e2ae4ebe2e96",
   "metadata": {},
   "source": [
    "In this notebook, Data Science Tools and Ecosystem are summarized."
   ]
  },
  {
   "cell_type": "markdown",
   "id": "c3ae69ce-1a74-41aa-95c1-b6bbd65d84d0",
   "metadata": {},
   "source": [
    "**Objectives:**\n",
    "- List popular languages for Data Science.\n",
    "- List commonly used libraries by Data Science.\n",
    "- List basic tools of Data Science."
   ]
  },
  {
   "cell_type": "markdown",
   "id": "93a1850e-0682-440d-85ae-55a163e9ec55",
   "metadata": {},
   "source": [
    "## H2: Author: \n",
    "             Rena Haris."
   ]
  },
  {
   "cell_type": "markdown",
   "id": "2d6c6d25-0ac8-4e2d-ab1a-729b182391e3",
   "metadata": {},
   "source": [
    "Some of the popular languages that Data Scientist use are:\n",
    "1. Python\n",
    "2. SQL\n",
    "3. R\n",
    "4. Scala"
   ]
  },
  {
   "cell_type": "markdown",
   "id": "947de20a-2805-4287-ad10-9a29dba4b76c",
   "metadata": {},
   "source": [
    "Some of the commonly used libraries used by Data Scientists include:\n",
    "1. Python library\n",
    "2. Visualization library\n",
    "3. Deep learning library"
   ]
  },
  {
   "cell_type": "markdown",
   "id": "f74bfbed-c0dd-4b2c-836e-050e3b8cb78e",
   "metadata": {},
   "source": [
    "|Data Science Tools.|\n",
    "|-------------------|\n",
    "|Jupyter|\n",
    "|RStudio|\n",
    "|Anaconda|\n",
    "|Pycharm|\n"
   ]
  },
  {
   "cell_type": "markdown",
   "id": "9c6524d4-1695-427f-aa68-12332981d492",
   "metadata": {},
   "source": [
    "### H3: Below are a few examples of evaluating arithmetic expressions in Python."
   ]
  },
  {
   "cell_type": "code",
   "execution_count": 2,
   "id": "32328c93-a042-4825-8f93-fa6945f9b051",
   "metadata": {},
   "outputs": [
    {
     "data": {
      "text/plain": [
       "17"
      ]
     },
     "execution_count": 2,
     "metadata": {},
     "output_type": "execute_result"
    }
   ],
   "source": [
    "# This is a simple arithmetic expression to multiply then add integers.\n",
    "(3*4)+5"
   ]
  },
  {
   "cell_type": "code",
   "execution_count": 4,
   "id": "459729ad-f594-4892-9925-e62781e391d8",
   "metadata": {},
   "outputs": [
    {
     "name": "stdout",
     "output_type": "stream",
     "text": [
      "200 minutes is equal to 3.3333333333333335 hours.\n"
     ]
    }
   ],
   "source": [
    "# This will convert 200 minutes to hours by dividing by 60.\n",
    "minutes = 200\n",
    "hours = minutes / 60\n",
    "print(f\"{minutes} minutes is equal to {hours} hours.\")"
   ]
  },
  {
   "cell_type": "code",
   "execution_count": null,
   "id": "2e159477-34d9-4e44-85e5-1ec28168eb75",
   "metadata": {},
   "outputs": [],
   "source": []
  }
 ],
 "metadata": {
  "kernelspec": {
   "display_name": "Python 3 (ipykernel)",
   "language": "python",
   "name": "python3"
  },
  "language_info": {
   "codemirror_mode": {
    "name": "ipython",
    "version": 3
   },
   "file_extension": ".py",
   "mimetype": "text/x-python",
   "name": "python",
   "nbconvert_exporter": "python",
   "pygments_lexer": "ipython3",
   "version": "3.13.5"
  }
 },
 "nbformat": 4,
 "nbformat_minor": 5
}
